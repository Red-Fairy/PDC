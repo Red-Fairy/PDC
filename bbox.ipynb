{
 "cells": [
  {
   "cell_type": "code",
   "execution_count": 1,
   "metadata": {},
   "outputs": [],
   "source": [
    "import numpy as np"
   ]
  },
  {
   "cell_type": "code",
   "execution_count": 2,
   "metadata": {},
   "outputs": [],
   "source": [
    "bbox = np.load('/svl/u/redfairy/datasets/data_bbox/slider_drawer_40417_3_sdf_bbox.npy')"
   ]
  },
  {
   "cell_type": "code",
   "execution_count": 3,
   "metadata": {},
   "outputs": [
    {
     "name": "stdout",
     "output_type": "stream",
     "text": [
      "[[ 0.25323437  0.09881135 -0.21140676]\n",
      " [ 0.25323434  0.09881138  0.21140677]\n",
      " [-0.25323437  0.09881138  0.21140674]\n",
      " [-0.25323434  0.09881135 -0.21140679]\n",
      " [ 0.25323437 -0.09881138 -0.21140674]\n",
      " [ 0.25323434 -0.09881135  0.21140679]\n",
      " [-0.25323437 -0.09881135  0.21140676]\n",
      " [-0.25323434 -0.09881138 -0.21140677]]\n"
     ]
    }
   ],
   "source": [
    "print(bbox)"
   ]
  }
 ],
 "metadata": {
  "kernelspec": {
   "display_name": "uOCF",
   "language": "python",
   "name": "python3"
  },
  "language_info": {
   "codemirror_mode": {
    "name": "ipython",
    "version": 3
   },
   "file_extension": ".py",
   "mimetype": "text/x-python",
   "name": "python",
   "nbconvert_exporter": "python",
   "pygments_lexer": "ipython3",
   "version": "3.11.5"
  }
 },
 "nbformat": 4,
 "nbformat_minor": 2
}
